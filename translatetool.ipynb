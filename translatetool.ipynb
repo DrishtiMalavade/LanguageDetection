{
 "cells": [
  {
   "cell_type": "code",
   "execution_count": 6,
   "id": "f7df019a-b05a-49fa-844d-f9bd5677d65b",
   "metadata": {},
   "outputs": [
    {
     "name": "stdout",
     "output_type": "stream",
     "text": [
      "Collecting deep-translator\n",
      "  Using cached deep_translator-1.11.4-py3-none-any.whl.metadata (30 kB)\n",
      "Requirement already satisfied: beautifulsoup4<5.0.0,>=4.9.1 in c:\\users\\drish\\anaconda3\\lib\\site-packages (from deep-translator) (4.12.3)\n",
      "Requirement already satisfied: requests<3.0.0,>=2.23.0 in c:\\users\\drish\\anaconda3\\lib\\site-packages (from deep-translator) (2.32.3)\n",
      "Requirement already satisfied: soupsieve>1.2 in c:\\users\\drish\\anaconda3\\lib\\site-packages (from beautifulsoup4<5.0.0,>=4.9.1->deep-translator) (2.5)\n",
      "Requirement already satisfied: charset-normalizer<4,>=2 in c:\\users\\drish\\anaconda3\\lib\\site-packages (from requests<3.0.0,>=2.23.0->deep-translator) (3.3.2)\n",
      "Requirement already satisfied: idna<4,>=2.5 in c:\\users\\drish\\anaconda3\\lib\\site-packages (from requests<3.0.0,>=2.23.0->deep-translator) (2.10)\n",
      "Requirement already satisfied: urllib3<3,>=1.21.1 in c:\\users\\drish\\anaconda3\\lib\\site-packages (from requests<3.0.0,>=2.23.0->deep-translator) (2.3.0)\n",
      "Requirement already satisfied: certifi>=2017.4.17 in c:\\users\\drish\\anaconda3\\lib\\site-packages (from requests<3.0.0,>=2.23.0->deep-translator) (2025.4.26)\n",
      "Using cached deep_translator-1.11.4-py3-none-any.whl (42 kB)\n",
      "Installing collected packages: deep-translator\n",
      "Successfully installed deep-translator-1.11.4\n"
     ]
    }
   ],
   "source": [
    "!pip install deep-translator\n"
   ]
  },
  {
   "cell_type": "code",
   "execution_count": 7,
   "id": "84d8b95a-806d-4732-87c0-f0bdb072819d",
   "metadata": {},
   "outputs": [],
   "source": [
    "from deep_translator import GoogleTranslator\n",
    "\n",
    "def translate_text(text, src_lang, dest_lang):\n",
    "    translator = GoogleTranslator(source=src_lang, target=dest_lang)\n",
    "    return translator.translate(text)\n"
   ]
  },
  {
   "cell_type": "code",
   "execution_count": 8,
   "id": "784417ae-466f-459a-9859-dfa1a8d267e4",
   "metadata": {},
   "outputs": [
    {
     "name": "stdout",
     "output_type": "stream",
     "text": [
      "Language Translator App\n",
      "Supported Languages:\n",
      "English: en, Spanish: es, French: fr, German: de, Hindi: hi, Chinese: zh-CN\n"
     ]
    },
    {
     "name": "stdin",
     "output_type": "stream",
     "text": [
      "Enter the source language code (e.g., en for English):  en\n",
      "Enter the destination language code (e.g., fr for French):  fr\n",
      "Enter the text to translate:  hello\n"
     ]
    },
    {
     "name": "stdout",
     "output_type": "stream",
     "text": [
      "Translated Text:\n",
      "Bonjour\n"
     ]
    }
   ],
   "source": [
    "print(\"Language Translator App\")\n",
    "print(\"Supported Languages:\")\n",
    "print(\"English: en, Spanish: es, French: fr, German: de, Hindi: hi, Chinese: zh-CN\")\n",
    "\n",
    "src_lang = input(\"Enter the source language code (e.g., en for English): \")\n",
    "dest_lang = input(\"Enter the destination language code (e.g., fr for French): \")\n",
    "text_to_translate = input(\"Enter the text to translate: \")\n",
    "\n",
    "translated_text = translate_text(text_to_translate, src_lang, dest_lang)\n",
    "print(\"Translated Text:\")\n",
    "print(translated_text)\n"
   ]
  },
  {
   "cell_type": "code",
   "execution_count": null,
   "id": "e87d27a0-bb44-4b82-a031-04d21cbf90b8",
   "metadata": {},
   "outputs": [],
   "source": []
  }
 ],
 "metadata": {
  "kernelspec": {
   "display_name": "Python 3 (ipykernel)",
   "language": "python",
   "name": "python3"
  },
  "language_info": {
   "codemirror_mode": {
    "name": "ipython",
    "version": 3
   },
   "file_extension": ".py",
   "mimetype": "text/x-python",
   "name": "python",
   "nbconvert_exporter": "python",
   "pygments_lexer": "ipython3",
   "version": "3.13.5"
  }
 },
 "nbformat": 4,
 "nbformat_minor": 5
}
